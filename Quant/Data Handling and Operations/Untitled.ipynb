{
 "cells": [
  {
   "cell_type": "code",
   "execution_count": 11,
   "id": "00377b96",
   "metadata": {},
   "outputs": [
    {
     "name": "stdout",
     "output_type": "stream",
     "text": [
      "[*********************100%%**********************]  1 of 1 completed\n",
      "[*********************100%%**********************]  1 of 1 completed\n",
      "[*********************100%%**********************]  1 of 1 completed\n"
     ]
    }
   ],
   "source": [
    "# -*- coding: utf-8 -*-\n",
    "\"\"\"\n",
    "Getting data Using yfinance library\n",
    "\n",
    "@author: Mayank Rasu (http://rasuquant.com/wp/)\n",
    "\"\"\"\n",
    "\n",
    "import yfinance as yf\n",
    "\n",
    "# get ohlcv data for any ticker by period.\n",
    "data = yf.download(\"MSFT\", period='1mo', interval=\"5m\")\n",
    "\n",
    "# get ohlcv data for any ticker by start date and end date\n",
    "data = yf.download(\"MSFT\", start=\"2017-01-01\", end=\"2020-04-24\")\n",
    "\n",
    "# get intraday data for any ticker by period.\n",
    "data = yf.download(\"MSFT\", period='1mo', interval=\"5m\")['Adj Close']"
   ]
  },
  {
   "cell_type": "code",
   "execution_count": 12,
   "id": "f7526b72",
   "metadata": {},
   "outputs": [
    {
     "data": {
      "text/plain": [
       "Datetime\n",
       "2023-11-07 10:45:00-05:00    361.475006\n",
       "2023-11-07 10:50:00-05:00    361.790009\n",
       "2023-11-07 10:55:00-05:00    361.440002\n",
       "2023-11-07 11:00:00-05:00    361.450012\n",
       "2023-11-07 11:05:00-05:00    361.670013\n",
       "                                ...    \n",
       "2023-12-07 10:25:00-05:00    369.734985\n",
       "2023-12-07 10:30:00-05:00    368.734985\n",
       "2023-12-07 10:35:00-05:00    368.959991\n",
       "2023-12-07 10:40:00-05:00    368.510010\n",
       "2023-12-07 10:45:00-05:00    368.479004\n",
       "Name: Adj Close, Length: 1601, dtype: float64"
      ]
     },
     "execution_count": 12,
     "metadata": {},
     "output_type": "execute_result"
    }
   ],
   "source": [
    "data"
   ]
  },
  {
   "cell_type": "code",
   "execution_count": 22,
   "id": "1d752e80",
   "metadata": {},
   "outputs": [],
   "source": [
    "# =============================================================================\n",
    "# Import OHLCV data and perform basic data operations\n",
    "# Author : Mayank Rasu (http://rasuquant.com/wp/)\n",
    "\n",
    "# Please report bug/issues in the Q&A section\n",
    "# =============================================================================\n",
    "\n",
    "import datetime as dt\n",
    "import yfinance as yf\n",
    "import pandas as pd"
   ]
  },
  {
   "cell_type": "code",
   "execution_count": 45,
   "id": "b36531ce",
   "metadata": {},
   "outputs": [
    {
     "name": "stdout",
     "output_type": "stream",
     "text": [
      "[*********************100%%**********************]  1 of 1 completed\n",
      "                 AMZN\n",
      "Date                 \n",
      "2013-12-10  19.389000\n",
      "2013-12-11  19.109501\n",
      "2013-12-12  19.062500\n",
      "2013-12-13  19.212000\n",
      "2013-12-16  19.448500\n",
      "[*********************100%%**********************]  1 of 1 completed\n",
      "                 AMZN       MSFT\n",
      "Date                            \n",
      "2013-12-10  19.389000  32.090775\n",
      "2013-12-11  19.109501  31.669746\n",
      "2013-12-12  19.062500  31.341341\n",
      "2013-12-13  19.212000  30.895058\n",
      "2013-12-16  19.448500  31.063461\n",
      "[*********************100%%**********************]  1 of 1 completed\n",
      "                 AMZN       MSFT       META\n",
      "Date                                       \n",
      "2013-12-10  19.389000  32.090775  50.250000\n",
      "2013-12-11  19.109501  31.669746  49.380001\n",
      "2013-12-12  19.062500  31.341341  51.830002\n",
      "2013-12-13  19.212000  30.895058  53.320000\n",
      "2013-12-16  19.448500  31.063461  53.810001\n",
      "[*********************100%%**********************]  1 of 1 completed\n",
      "                 AMZN       MSFT       META       GOOG\n",
      "Date                                                  \n",
      "2013-12-10  19.389000  32.090775  50.250000  27.015240\n",
      "2013-12-11  19.109501  31.669746  49.380001  26.831678\n",
      "2013-12-12  19.062500  31.341341  51.830002  26.649113\n",
      "2013-12-13  19.212000  30.895058  53.320000  26.420719\n",
      "2013-12-16  19.448500  31.063461  53.810001  26.724331\n"
     ]
    }
   ],
   "source": [
    "tickers = [\"AMZN\",\"MSFT\",\" META\",\"GOOG\"]\n",
    "start = dt.datetime.today()-dt.timedelta(3650)\n",
    "end = dt.datetime.today()\n",
    "cl_price = pd.DataFrame()\n",
    "# empty dataframe which will be filled with closing prices of each stock\n",
    "\n",
    "# looping over tickers and creating a dataframe with close prices\n",
    "for ticker in tickers:\n",
    "    cl_price[ticker] = yf.download(ticker,start,end)[\"Adj Close\"]\n",
    "    print(cl_price.head())\n",
    "cl_price.dropna(inplace=True)"
   ]
  },
  {
   "cell_type": "code",
   "execution_count": 46,
   "id": "e34ed054",
   "metadata": {},
   "outputs": [
    {
     "name": "stdout",
     "output_type": "stream",
     "text": [
      "[*********************100%%**********************]  1 of 1 completed\n"
     ]
    }
   ],
   "source": [
    "cl_price[ticker] = yf.download(ticker,start,end)[\"Adj Close\"]\n",
    "    "
   ]
  },
  {
   "cell_type": "code",
   "execution_count": 47,
   "id": "437d6a73",
   "metadata": {},
   "outputs": [
    {
     "data": {
      "text/html": [
       "<div>\n",
       "<style scoped>\n",
       "    .dataframe tbody tr th:only-of-type {\n",
       "        vertical-align: middle;\n",
       "    }\n",
       "\n",
       "    .dataframe tbody tr th {\n",
       "        vertical-align: top;\n",
       "    }\n",
       "\n",
       "    .dataframe thead th {\n",
       "        text-align: right;\n",
       "    }\n",
       "</style>\n",
       "<table border=\"1\" class=\"dataframe\">\n",
       "  <thead>\n",
       "    <tr style=\"text-align: right;\">\n",
       "      <th></th>\n",
       "      <th>AMZN</th>\n",
       "      <th>MSFT</th>\n",
       "      <th>META</th>\n",
       "      <th>GOOG</th>\n",
       "    </tr>\n",
       "    <tr>\n",
       "      <th>Date</th>\n",
       "      <th></th>\n",
       "      <th></th>\n",
       "      <th></th>\n",
       "      <th></th>\n",
       "    </tr>\n",
       "  </thead>\n",
       "  <tbody>\n",
       "    <tr>\n",
       "      <th>2013-12-10</th>\n",
       "      <td>19.389000</td>\n",
       "      <td>32.090775</td>\n",
       "      <td>50.250000</td>\n",
       "      <td>27.015240</td>\n",
       "    </tr>\n",
       "    <tr>\n",
       "      <th>2013-12-11</th>\n",
       "      <td>19.109501</td>\n",
       "      <td>31.669746</td>\n",
       "      <td>49.380001</td>\n",
       "      <td>26.831678</td>\n",
       "    </tr>\n",
       "    <tr>\n",
       "      <th>2013-12-12</th>\n",
       "      <td>19.062500</td>\n",
       "      <td>31.341341</td>\n",
       "      <td>51.830002</td>\n",
       "      <td>26.649113</td>\n",
       "    </tr>\n",
       "    <tr>\n",
       "      <th>2013-12-13</th>\n",
       "      <td>19.212000</td>\n",
       "      <td>30.895058</td>\n",
       "      <td>53.320000</td>\n",
       "      <td>26.420719</td>\n",
       "    </tr>\n",
       "    <tr>\n",
       "      <th>2013-12-16</th>\n",
       "      <td>19.448500</td>\n",
       "      <td>31.063461</td>\n",
       "      <td>53.810001</td>\n",
       "      <td>26.724331</td>\n",
       "    </tr>\n",
       "    <tr>\n",
       "      <th>...</th>\n",
       "      <td>...</td>\n",
       "      <td>...</td>\n",
       "      <td>...</td>\n",
       "      <td>...</td>\n",
       "    </tr>\n",
       "    <tr>\n",
       "      <th>2023-12-01</th>\n",
       "      <td>147.029999</td>\n",
       "      <td>374.510010</td>\n",
       "      <td>324.820007</td>\n",
       "      <td>133.320007</td>\n",
       "    </tr>\n",
       "    <tr>\n",
       "      <th>2023-12-04</th>\n",
       "      <td>144.839996</td>\n",
       "      <td>369.140015</td>\n",
       "      <td>320.019989</td>\n",
       "      <td>130.630005</td>\n",
       "    </tr>\n",
       "    <tr>\n",
       "      <th>2023-12-05</th>\n",
       "      <td>146.880005</td>\n",
       "      <td>372.519989</td>\n",
       "      <td>318.290009</td>\n",
       "      <td>132.389999</td>\n",
       "    </tr>\n",
       "    <tr>\n",
       "      <th>2023-12-06</th>\n",
       "      <td>144.520004</td>\n",
       "      <td>368.799988</td>\n",
       "      <td>317.450012</td>\n",
       "      <td>131.429993</td>\n",
       "    </tr>\n",
       "    <tr>\n",
       "      <th>2023-12-07</th>\n",
       "      <td>146.649994</td>\n",
       "      <td>368.119995</td>\n",
       "      <td>324.089996</td>\n",
       "      <td>137.565002</td>\n",
       "    </tr>\n",
       "  </tbody>\n",
       "</table>\n",
       "<p>2516 rows × 4 columns</p>\n",
       "</div>"
      ],
      "text/plain": [
       "                  AMZN        MSFT        META        GOOG\n",
       "Date                                                      \n",
       "2013-12-10   19.389000   32.090775   50.250000   27.015240\n",
       "2013-12-11   19.109501   31.669746   49.380001   26.831678\n",
       "2013-12-12   19.062500   31.341341   51.830002   26.649113\n",
       "2013-12-13   19.212000   30.895058   53.320000   26.420719\n",
       "2013-12-16   19.448500   31.063461   53.810001   26.724331\n",
       "...                ...         ...         ...         ...\n",
       "2023-12-01  147.029999  374.510010  324.820007  133.320007\n",
       "2023-12-04  144.839996  369.140015  320.019989  130.630005\n",
       "2023-12-05  146.880005  372.519989  318.290009  132.389999\n",
       "2023-12-06  144.520004  368.799988  317.450012  131.429993\n",
       "2023-12-07  146.649994  368.119995  324.089996  137.565002\n",
       "\n",
       "[2516 rows x 4 columns]"
      ]
     },
     "execution_count": 47,
     "metadata": {},
     "output_type": "execute_result"
    }
   ],
   "source": [
    "cl_price"
   ]
  },
  {
   "cell_type": "code",
   "execution_count": 48,
   "id": "32d708b1",
   "metadata": {},
   "outputs": [
    {
     "data": {
      "text/plain": [
       "AMZN     0.020898\n",
       "MSFT     0.017055\n",
       " META    0.023616\n",
       "GOOG     0.017587\n",
       "dtype: float64"
      ]
     },
     "execution_count": 48,
     "metadata": {},
     "output_type": "execute_result"
    }
   ],
   "source": [
    "#familiarizing with data\n",
    "cl_price.head(8) #prints the first 8 rows of the dataframe\n",
    "cl_price.tail() #prints the last 5 rows of the dataframe\n",
    "cl_price.describe() #performs summary statistic of each numerical columns in the datafrme\n",
    "\n",
    "# Mean, Median, Standard Deviation\n",
    "cl_price.mean() #calculates mean stock price for each stock\n",
    "cl_price.median() #calculates median stock price for each stock\n",
    "cl_price.std() #calculates standard deviation of stock price for each stock\n",
    "\n",
    "# Return calculation\n",
    "daily_return = cl_price.pct_change() #Creates dataframe with daily return for each stock\n",
    "daily_return = cl_price/cl_price.shift(1) - 1 #Performs same operation as above\n",
    "\n",
    "daily_return.mean(axis=1) #prints mean daily return for each stock\n",
    "daily_return.std() #prints standard deviation of daily returns for each stock"
   ]
  },
  {
   "cell_type": "code",
   "execution_count": null,
   "id": "212a9a32",
   "metadata": {},
   "outputs": [],
   "source": []
  },
  {
   "cell_type": "code",
   "execution_count": 38,
   "id": "edaa8bec",
   "metadata": {},
   "outputs": [
    {
     "data": {
      "text/html": [
       "<div>\n",
       "<style scoped>\n",
       "    .dataframe tbody tr th:only-of-type {\n",
       "        vertical-align: middle;\n",
       "    }\n",
       "\n",
       "    .dataframe tbody tr th {\n",
       "        vertical-align: top;\n",
       "    }\n",
       "\n",
       "    .dataframe thead th {\n",
       "        text-align: right;\n",
       "    }\n",
       "</style>\n",
       "<table border=\"1\" class=\"dataframe\">\n",
       "  <thead>\n",
       "    <tr style=\"text-align: right;\">\n",
       "      <th></th>\n",
       "      <th>AMZN</th>\n",
       "      <th>MSFT</th>\n",
       "      <th>FB</th>\n",
       "      <th>GOOG</th>\n",
       "    </tr>\n",
       "    <tr>\n",
       "      <th>Date</th>\n",
       "      <th></th>\n",
       "      <th></th>\n",
       "      <th></th>\n",
       "      <th></th>\n",
       "    </tr>\n",
       "  </thead>\n",
       "  <tbody>\n",
       "  </tbody>\n",
       "</table>\n",
       "</div>"
      ],
      "text/plain": [
       "Empty DataFrame\n",
       "Columns: [AMZN, MSFT, FB, GOOG]\n",
       "Index: []"
      ]
     },
     "execution_count": 38,
     "metadata": {},
     "output_type": "execute_result"
    }
   ],
   "source": [
    "cl_price"
   ]
  },
  {
   "cell_type": "code",
   "execution_count": 30,
   "id": "aa727767",
   "metadata": {},
   "outputs": [
    {
     "name": "stdout",
     "output_type": "stream",
     "text": [
      "[*********************100%%**********************]  1 of 1 completed\n"
     ]
    }
   ],
   "source": [
    "cl_price[ticker] = yf.download('MSFT',start,end)['Adj Close']"
   ]
  },
  {
   "cell_type": "code",
   "execution_count": 31,
   "id": "dba91ee5",
   "metadata": {},
   "outputs": [
    {
     "data": {
      "text/html": [
       "<div>\n",
       "<style scoped>\n",
       "    .dataframe tbody tr th:only-of-type {\n",
       "        vertical-align: middle;\n",
       "    }\n",
       "\n",
       "    .dataframe tbody tr th {\n",
       "        vertical-align: top;\n",
       "    }\n",
       "\n",
       "    .dataframe thead th {\n",
       "        text-align: right;\n",
       "    }\n",
       "</style>\n",
       "<table border=\"1\" class=\"dataframe\">\n",
       "  <thead>\n",
       "    <tr style=\"text-align: right;\">\n",
       "      <th></th>\n",
       "      <th>GOOG</th>\n",
       "    </tr>\n",
       "    <tr>\n",
       "      <th>Date</th>\n",
       "      <th></th>\n",
       "    </tr>\n",
       "  </thead>\n",
       "  <tbody>\n",
       "    <tr>\n",
       "      <th>2013-12-10</th>\n",
       "      <td>32.090778</td>\n",
       "    </tr>\n",
       "    <tr>\n",
       "      <th>2013-12-11</th>\n",
       "      <td>31.669744</td>\n",
       "    </tr>\n",
       "    <tr>\n",
       "      <th>2013-12-12</th>\n",
       "      <td>31.341356</td>\n",
       "    </tr>\n",
       "    <tr>\n",
       "      <th>2013-12-13</th>\n",
       "      <td>30.895050</td>\n",
       "    </tr>\n",
       "    <tr>\n",
       "      <th>2013-12-16</th>\n",
       "      <td>31.063471</td>\n",
       "    </tr>\n",
       "    <tr>\n",
       "      <th>...</th>\n",
       "      <td>...</td>\n",
       "    </tr>\n",
       "    <tr>\n",
       "      <th>2023-12-01</th>\n",
       "      <td>374.510010</td>\n",
       "    </tr>\n",
       "    <tr>\n",
       "      <th>2023-12-04</th>\n",
       "      <td>369.140015</td>\n",
       "    </tr>\n",
       "    <tr>\n",
       "      <th>2023-12-05</th>\n",
       "      <td>372.519989</td>\n",
       "    </tr>\n",
       "    <tr>\n",
       "      <th>2023-12-06</th>\n",
       "      <td>368.799988</td>\n",
       "    </tr>\n",
       "    <tr>\n",
       "      <th>2023-12-07</th>\n",
       "      <td>368.140991</td>\n",
       "    </tr>\n",
       "  </tbody>\n",
       "</table>\n",
       "<p>2516 rows × 1 columns</p>\n",
       "</div>"
      ],
      "text/plain": [
       "                  GOOG\n",
       "Date                  \n",
       "2013-12-10   32.090778\n",
       "2013-12-11   31.669744\n",
       "2013-12-12   31.341356\n",
       "2013-12-13   30.895050\n",
       "2013-12-16   31.063471\n",
       "...                ...\n",
       "2023-12-01  374.510010\n",
       "2023-12-04  369.140015\n",
       "2023-12-05  372.519989\n",
       "2023-12-06  368.799988\n",
       "2023-12-07  368.140991\n",
       "\n",
       "[2516 rows x 1 columns]"
      ]
     },
     "execution_count": 31,
     "metadata": {},
     "output_type": "execute_result"
    }
   ],
   "source": [
    "cl_price"
   ]
  },
  {
   "cell_type": "code",
   "execution_count": 6,
   "id": "e87b36e8",
   "metadata": {},
   "outputs": [
    {
     "name": "stdout",
     "output_type": "stream",
     "text": [
      "[*********************100%%**********************]  1 of 1 completed\n",
      "[*********************100%%**********************]  1 of 1 completed\n",
      "[*********************100%%**********************]  1 of 1 completed"
     ]
    },
    {
     "name": "stderr",
     "output_type": "stream",
     "text": [
      "\n",
      "1 Failed download:\n",
      "['FB']: Exception('%ticker%: No timezone found, symbol may be delisted')\n"
     ]
    },
    {
     "name": "stdout",
     "output_type": "stream",
     "text": [
      "\n",
      "[*********************100%%**********************]  1 of 1 completed\n"
     ]
    },
    {
     "data": {
      "text/plain": [
       "AMZN   NaN\n",
       "MSFT   NaN\n",
       "FB     NaN\n",
       "GOOG   NaN\n",
       "dtype: float64"
      ]
     },
     "execution_count": 6,
     "metadata": {},
     "output_type": "execute_result"
    }
   ],
   "source": [
    "# looping over tickers and creating a dataframe with close prices\n",
    "for ticker in tickers:\n",
    "    cl_price[ticker] = yf.download(ticker,start,end)[\"Adj Close\"]\n",
    "    \n",
    "#dropping NaN values\n",
    "cl_price.dropna(axis=0,how='any',inplace=True)\n",
    "\n",
    "#familiarizing with data\n",
    "cl_price.head(8) #prints the first 8 rows of the dataframe\n",
    "cl_price.tail() #prints the last 5 rows of the dataframe\n",
    "cl_price.describe() #performs summary statistic of each numerical columns in the datafrme\n",
    "\n",
    "# Mean, Median, Standard Deviation\n",
    "cl_price.mean() #calculates mean stock price for each stock\n",
    "cl_price.median() #calculates median stock price for each stock\n",
    "cl_price.std() #calculates standard deviation of stock price for each stock\n",
    "\n",
    "# Return calculation\n",
    "daily_return = cl_price.pct_change() #Creates dataframe with daily return for each stock\n",
    "daily_return = cl_price/cl_price.shift(1) - 1 #Performs same operation as above\n",
    "\n",
    "daily_return.mean(axis=1) #prints mean daily return for each stock\n",
    "daily_return.std() #prints standard deviation of daily returns for each stock\n",
    "    \n",
    "    \n",
    "    \n",
    "    \n",
    "    \n",
    "    \n",
    "    \n",
    "    \n",
    "    \n",
    "    "
   ]
  },
  {
   "cell_type": "code",
   "execution_count": null,
   "id": "4be3394b",
   "metadata": {},
   "outputs": [],
   "source": []
  },
  {
   "cell_type": "code",
   "execution_count": null,
   "id": "3c1c21de",
   "metadata": {},
   "outputs": [],
   "source": []
  }
 ],
 "metadata": {
  "hide_input": false,
  "kernelspec": {
   "display_name": "Trading_environment",
   "language": "python",
   "name": "trading_environment"
  },
  "language_info": {
   "codemirror_mode": {
    "name": "ipython",
    "version": 3
   },
   "file_extension": ".py",
   "mimetype": "text/x-python",
   "name": "python",
   "nbconvert_exporter": "python",
   "pygments_lexer": "ipython3",
   "version": "3.11.4"
  },
  "nbTranslate": {
   "displayLangs": [
    "*"
   ],
   "hotkey": "alt-t",
   "langInMainMenu": true,
   "sourceLang": "en",
   "targetLang": "fr",
   "useGoogleTranslate": true
  },
  "toc": {
   "base_numbering": 1,
   "nav_menu": {},
   "number_sections": true,
   "sideBar": true,
   "skip_h1_title": false,
   "title_cell": "Table of Contents",
   "title_sidebar": "Contents",
   "toc_cell": false,
   "toc_position": {},
   "toc_section_display": true,
   "toc_window_display": false
  }
 },
 "nbformat": 4,
 "nbformat_minor": 5
}
